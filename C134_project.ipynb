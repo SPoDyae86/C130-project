{
  "nbformat": 4,
  "nbformat_minor": 0,
  "metadata": {
    "colab": {
      "name": "C134 project",
      "provenance": [],
      "authorship_tag": "ABX9TyPYUArciHVcjQPalwBfvo/v",
      "include_colab_link": true
    },
    "kernelspec": {
      "name": "python3",
      "display_name": "Python 3"
    },
    "language_info": {
      "name": "python"
    }
  },
  "cells": [
    {
      "cell_type": "markdown",
      "metadata": {
        "id": "view-in-github",
        "colab_type": "text"
      },
      "source": [
        "<a href=\"https://colab.research.google.com/github/SPoDyae86/C130-project/blob/main/C134_project.ipynb\" target=\"_parent\"><img src=\"https://colab.research.google.com/assets/colab-badge.svg\" alt=\"Open In Colab\"/></a>"
      ]
    },
    {
      "cell_type": "code",
      "execution_count": null,
      "metadata": {
        "id": "VPtZxRCFgdbM"
      },
      "outputs": [],
      "source": [
        "import pandas as pd \n",
        "import matplotlib.pylot as plt\n",
        "import csv\n",
        "\n",
        "with open(\"main.csv\", \"r\") as f:\n",
        "  csvreader = csv.reader(f)\n",
        "  for row in csvreader: \n",
        "    rows.append(row)\n",
        "\n",
        "headers = rows[0]\n",
        "planet_data_rows = rows[1:]\n",
        "headers[0] = \"row_num\"\n",
        "good_distance = []\n",
        "good_gravity = []\n",
        "solar_system_planet_count = {}\n",
        "\n",
        "for planet_data in planet_data_rows:\n",
        "  planet_distance = planet_data[2]\n",
        "  if planet_distance >= 100: \n",
        "    good_distance.append(planet_distance)\n",
        "  else: \n",
        "    planet_data_rows.remove(planet_data)\n",
        "  print(good_distance)\n",
        "\n",
        "for planet_data in planet_data_rows\n",
        "  planet_gravity = planet_data[11]\n",
        "  if planet_gravity >= 150 or planet_gravity <= 350: \n",
        "    good_gravity.append(planet_gravity)\n",
        "  else: \n",
        "    planet_data_rows.remove(planet_data)\n",
        "print(good_gravity)"
      ]
    }
  ]
}