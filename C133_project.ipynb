{
  "nbformat": 4,
  "nbformat_minor": 0,
  "metadata": {
    "colab": {
      "name": "C133 project",
      "provenance": [],
      "authorship_tag": "ABX9TyNIvvxZya0L0n5dtftAEVUk",
      "include_colab_link": true
    },
    "kernelspec": {
      "name": "python3",
      "display_name": "Python 3"
    },
    "language_info": {
      "name": "python"
    }
  },
  "cells": [
    {
      "cell_type": "markdown",
      "metadata": {
        "id": "view-in-github",
        "colab_type": "text"
      },
      "source": [
        "<a href=\"https://colab.research.google.com/github/SPoDyae86/C130-project/blob/main/C133_project.ipynb\" target=\"_parent\"><img src=\"https://colab.research.google.com/assets/colab-badge.svg\" alt=\"Open In Colab\"/></a>"
      ]
    },
    {
      "cell_type": "code",
      "execution_count": null,
      "metadata": {
        "id": "i6FsEArGaGzq"
      },
      "outputs": [],
      "source": [
        "import pandas as pd\n",
        "import csv\n",
        "from sklearn.cluster import KMeans\n",
        "import matplotlib.pyplot as plt\n",
        "import seaborn as sns\n",
        "import plotly as px\n",
        "\n",
        "X = []\n",
        "for index, planet_mass in enumerate(planet_masses):\n",
        "  temp_list = [\n",
        "                  planet_radiuses[index],\n",
        "                  planet_mass\n",
        "              ]\n",
        "  X.append(temp_list)\n",
        "\n",
        "wcss = [] #wcss method to find / reposition clusters\n",
        "for i in range(1, 11):\n",
        "    kmeans = KMeans(n_clusters=i, init='k-means++', random_state = 42)\n",
        "    kmeans.fit(X)\n",
        "\n",
        "    wcss.append(kmeans.inertia_)\n",
        "\n",
        "plt.figure(figsize=(10,5))\n",
        "sns.lineplot(range(1, 11), wcss, marker='o', color='red')\n",
        "plt.title('The Elbow Method')\n",
        "plt.xlabel('Number of clusters')\n",
        "plt.ylabel('WCSS')\n",
        "plt.show()\n",
        "#this returns the elbow graph, showing the optimal number of clusters\n",
        "\n",
        "planet_masses = []\n",
        "planet_radiuses = []\n",
        "planet_types = []\n",
        "for planet_data in gas_giant_or_rocky:\n",
        "  planet_masses.append(planet_data[3])\n",
        "  planet_radiuses.append(planet_data[7])\n",
        "  planet_types.append(planet_data[6])\n",
        "  fig = px.scatter(x=planet_radiuses, y=planet_masses, color=planet_types)\n",
        "  fig.show\n",
        "  #plot the scatterplot with Kmenas clusters displayed as colors\n"
      ]
    }
  ]
}